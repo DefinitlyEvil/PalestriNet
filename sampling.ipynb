{
 "cells": [
  {
   "cell_type": "code",
   "execution_count": 31,
   "metadata": {
    "collapsed": true
   },
   "outputs": [],
   "source": [
    "import numpy as np\n",
    "from tqdm import tqdm\n",
    "\n",
    "import models\n",
    "import preprocessing\n",
    "import score_utils\n"
   ]
  },
  {
   "cell_type": "code",
   "execution_count": 3,
   "metadata": {},
   "outputs": [
    {
     "name": "stdout",
     "output_type": "stream",
     "text": [
      "Loading score tensors from disk\n"
     ]
    },
    {
     "name": "stderr",
     "output_type": "stream",
     "text": [
      "\r  0%|          | 0/5930 [00:00<?, ?it/s]"
     ]
    },
    {
     "name": "stderr",
     "output_type": "stream",
     "text": [
      "\r  1%|          | 48/5930 [00:00<00:12, 478.94it/s]"
     ]
    },
    {
     "name": "stderr",
     "output_type": "stream",
     "text": [
      "\r  2%|▏         | 109/5930 [00:00<00:10, 537.45it/s]"
     ]
    },
    {
     "name": "stderr",
     "output_type": "stream",
     "text": [
      "\r  3%|▎         | 155/5930 [00:00<00:11, 507.32it/s]"
     ]
    },
    {
     "name": "stderr",
     "output_type": "stream",
     "text": [
      "\r  4%|▎         | 218/5930 [00:00<00:10, 537.06it/s]"
     ]
    },
    {
     "name": "stderr",
     "output_type": "stream",
     "text": [
      "\r  5%|▍         | 284/5930 [00:00<00:10, 560.59it/s]"
     ]
    },
    {
     "name": "stderr",
     "output_type": "stream",
     "text": [
      "\r  6%|▌         | 339/5930 [00:00<00:10, 558.55it/s]"
     ]
    },
    {
     "name": "stderr",
     "output_type": "stream",
     "text": [
      "\r  7%|▋         | 415/5930 [00:00<00:09, 586.95it/s]"
     ]
    },
    {
     "name": "stderr",
     "output_type": "stream",
     "text": [
      "\r  8%|▊         | 485/5930 [00:00<00:09, 600.52it/s]"
     ]
    },
    {
     "name": "stderr",
     "output_type": "stream",
     "text": [
      "\r  9%|▉         | 561/5930 [00:00<00:08, 616.58it/s]"
     ]
    },
    {
     "name": "stderr",
     "output_type": "stream",
     "text": [
      "\r 11%|█         | 637/5930 [00:01<00:08, 630.32it/s]"
     ]
    },
    {
     "name": "stderr",
     "output_type": "stream",
     "text": [
      "\r 12%|█▏        | 716/5930 [00:01<00:08, 644.55it/s]"
     ]
    },
    {
     "name": "stderr",
     "output_type": "stream",
     "text": [
      "\r 13%|█▎        | 788/5930 [00:01<00:07, 648.99it/s]"
     ]
    },
    {
     "name": "stderr",
     "output_type": "stream",
     "text": [
      "\r 14%|█▍        | 859/5930 [00:01<00:07, 652.93it/s]"
     ]
    },
    {
     "name": "stderr",
     "output_type": "stream",
     "text": [
      "\r 16%|█▌        | 940/5930 [00:01<00:07, 663.80it/s]"
     ]
    },
    {
     "name": "stderr",
     "output_type": "stream",
     "text": [
      "\r 17%|█▋        | 1021/5930 [00:01<00:07, 672.95it/s]"
     ]
    },
    {
     "name": "stderr",
     "output_type": "stream",
     "text": [
      "\r 19%|█▊        | 1103/5930 [00:01<00:07, 681.75it/s]"
     ]
    },
    {
     "name": "stderr",
     "output_type": "stream",
     "text": [
      "\r 20%|█▉        | 1181/5930 [00:01<00:06, 685.89it/s]"
     ]
    },
    {
     "name": "stderr",
     "output_type": "stream",
     "text": [
      "\r 21%|██        | 1258/5930 [00:01<00:06, 687.74it/s]"
     ]
    },
    {
     "name": "stderr",
     "output_type": "stream",
     "text": [
      "\r 22%|██▏       | 1334/5930 [00:01<00:06, 688.76it/s]"
     ]
    },
    {
     "name": "stderr",
     "output_type": "stream",
     "text": [
      "\r 24%|██▎       | 1408/5930 [00:02<00:06, 685.66it/s]"
     ]
    },
    {
     "name": "stderr",
     "output_type": "stream",
     "text": [
      "\r 25%|██▍       | 1479/5930 [00:02<00:06, 682.00it/s]"
     ]
    },
    {
     "name": "stderr",
     "output_type": "stream",
     "text": [
      "\r 26%|██▌       | 1552/5930 [00:02<00:06, 683.96it/s]"
     ]
    },
    {
     "name": "stderr",
     "output_type": "stream",
     "text": [
      "\r 27%|██▋       | 1622/5930 [00:02<00:06, 674.87it/s]"
     ]
    },
    {
     "name": "stderr",
     "output_type": "stream",
     "text": [
      "\r 28%|██▊       | 1687/5930 [00:02<00:06, 668.43it/s]"
     ]
    },
    {
     "name": "stderr",
     "output_type": "stream",
     "text": [
      "\r 29%|██▉       | 1749/5930 [00:02<00:06, 664.21it/s]"
     ]
    },
    {
     "name": "stderr",
     "output_type": "stream",
     "text": [
      "\r 31%|███       | 1829/5930 [00:02<00:06, 669.04it/s]"
     ]
    },
    {
     "name": "stderr",
     "output_type": "stream",
     "text": [
      "\r 32%|███▏      | 1900/5930 [00:02<00:06, 670.20it/s]"
     ]
    },
    {
     "name": "stderr",
     "output_type": "stream",
     "text": [
      "\r 33%|███▎      | 1968/5930 [00:02<00:05, 661.41it/s]"
     ]
    },
    {
     "name": "stderr",
     "output_type": "stream",
     "text": [
      "\r 34%|███▍      | 2036/5930 [00:03<00:05, 662.00it/s]"
     ]
    },
    {
     "name": "stderr",
     "output_type": "stream",
     "text": [
      "\r 36%|███▌      | 2119/5930 [00:03<00:05, 667.28it/s]"
     ]
    },
    {
     "name": "stderr",
     "output_type": "stream",
     "text": [
      "\r 37%|███▋      | 2191/5930 [00:03<00:05, 668.71it/s]"
     ]
    },
    {
     "name": "stderr",
     "output_type": "stream",
     "text": [
      "\r 38%|███▊      | 2261/5930 [00:03<00:05, 628.75it/s]"
     ]
    },
    {
     "name": "stderr",
     "output_type": "stream",
     "text": [
      "\r 39%|███▉      | 2317/5930 [00:03<00:05, 617.53it/s]"
     ]
    },
    {
     "name": "stderr",
     "output_type": "stream",
     "text": [
      "\r 40%|████      | 2372/5930 [00:03<00:05, 615.70it/s]"
     ]
    },
    {
     "name": "stderr",
     "output_type": "stream",
     "text": [
      "\r 41%|████      | 2424/5930 [00:03<00:05, 609.64it/s]"
     ]
    },
    {
     "name": "stderr",
     "output_type": "stream",
     "text": [
      "\r 42%|████▏     | 2476/5930 [00:04<00:05, 607.35it/s]"
     ]
    },
    {
     "name": "stderr",
     "output_type": "stream",
     "text": [
      "\r 43%|████▎     | 2541/5930 [00:04<00:05, 608.26it/s]"
     ]
    },
    {
     "name": "stderr",
     "output_type": "stream",
     "text": [
      "\r 44%|████▍     | 2595/5930 [00:04<00:05, 606.53it/s]"
     ]
    },
    {
     "name": "stderr",
     "output_type": "stream",
     "text": [
      "\r 45%|████▍     | 2649/5930 [00:04<00:05, 602.32it/s]"
     ]
    },
    {
     "name": "stderr",
     "output_type": "stream",
     "text": [
      "\r 46%|████▌     | 2735/5930 [00:04<00:05, 607.96it/s]"
     ]
    },
    {
     "name": "stderr",
     "output_type": "stream",
     "text": [
      "\r 47%|████▋     | 2797/5930 [00:04<00:05, 607.38it/s]"
     ]
    },
    {
     "name": "stderr",
     "output_type": "stream",
     "text": [
      "\r 48%|████▊     | 2861/5930 [00:04<00:05, 607.92it/s]"
     ]
    },
    {
     "name": "stderr",
     "output_type": "stream",
     "text": [
      "\r 49%|████▉     | 2923/5930 [00:04<00:04, 605.88it/s]"
     ]
    },
    {
     "name": "stderr",
     "output_type": "stream",
     "text": [
      "\r 50%|█████     | 2982/5930 [00:04<00:04, 603.32it/s]"
     ]
    },
    {
     "name": "stderr",
     "output_type": "stream",
     "text": [
      "\r 51%|█████     | 3039/5930 [00:05<00:04, 601.30it/s]"
     ]
    },
    {
     "name": "stderr",
     "output_type": "stream",
     "text": [
      "\r 52%|█████▏    | 3102/5930 [00:05<00:04, 601.75it/s]"
     ]
    },
    {
     "name": "stderr",
     "output_type": "stream",
     "text": [
      "\r 54%|█████▎    | 3175/5930 [00:05<00:04, 604.04it/s]"
     ]
    },
    {
     "name": "stderr",
     "output_type": "stream",
     "text": [
      "\r 55%|█████▍    | 3237/5930 [00:05<00:04, 603.33it/s]"
     ]
    },
    {
     "name": "stderr",
     "output_type": "stream",
     "text": [
      "\r 56%|█████▌    | 3298/5930 [00:05<00:04, 603.03it/s]"
     ]
    },
    {
     "name": "stderr",
     "output_type": "stream",
     "text": [
      "\r 57%|█████▋    | 3368/5930 [00:05<00:04, 604.74it/s]"
     ]
    },
    {
     "name": "stderr",
     "output_type": "stream",
     "text": [
      "\r 58%|█████▊    | 3446/5930 [00:05<00:04, 607.77it/s]"
     ]
    },
    {
     "name": "stderr",
     "output_type": "stream",
     "text": [
      "\r 59%|█████▉    | 3518/5930 [00:05<00:03, 609.65it/s]"
     ]
    },
    {
     "name": "stderr",
     "output_type": "stream",
     "text": [
      "\r 60%|██████    | 3587/5930 [00:05<00:03, 609.41it/s]"
     ]
    },
    {
     "name": "stderr",
     "output_type": "stream",
     "text": [
      "\r 62%|██████▏   | 3653/5930 [00:06<00:03, 600.60it/s]"
     ]
    },
    {
     "name": "stderr",
     "output_type": "stream",
     "text": [
      "\r 63%|██████▎   | 3710/5930 [00:06<00:03, 584.57it/s]"
     ]
    },
    {
     "name": "stderr",
     "output_type": "stream",
     "text": [
      "\r 63%|██████▎   | 3756/5930 [00:06<00:03, 581.27it/s]"
     ]
    },
    {
     "name": "stderr",
     "output_type": "stream",
     "text": [
      "\r 64%|██████▍   | 3818/5930 [00:06<00:03, 581.83it/s]"
     ]
    },
    {
     "name": "stderr",
     "output_type": "stream",
     "text": [
      "\r 65%|██████▌   | 3879/5930 [00:06<00:03, 582.17it/s]"
     ]
    },
    {
     "name": "stderr",
     "output_type": "stream",
     "text": [
      "\r 67%|██████▋   | 3945/5930 [00:06<00:03, 583.22it/s]"
     ]
    },
    {
     "name": "stderr",
     "output_type": "stream",
     "text": [
      "\r 68%|██████▊   | 4011/5930 [00:06<00:03, 584.25it/s]"
     ]
    },
    {
     "name": "stderr",
     "output_type": "stream",
     "text": [
      "\r 69%|██████▉   | 4082/5930 [00:06<00:03, 585.95it/s]"
     ]
    },
    {
     "name": "stderr",
     "output_type": "stream",
     "text": [
      "\r 70%|███████   | 4161/5930 [00:07<00:03, 588.83it/s]"
     ]
    },
    {
     "name": "stderr",
     "output_type": "stream",
     "text": [
      "\r 71%|███████▏  | 4229/5930 [00:07<00:02, 588.49it/s]"
     ]
    },
    {
     "name": "stderr",
     "output_type": "stream",
     "text": [
      "\r 72%|███████▏  | 4294/5930 [00:07<00:02, 583.29it/s]"
     ]
    },
    {
     "name": "stderr",
     "output_type": "stream",
     "text": [
      "\r 73%|███████▎  | 4351/5930 [00:07<00:02, 581.87it/s]"
     ]
    },
    {
     "name": "stderr",
     "output_type": "stream",
     "text": [
      "\r 75%|███████▍  | 4424/5930 [00:07<00:02, 583.78it/s]"
     ]
    },
    {
     "name": "stderr",
     "output_type": "stream",
     "text": [
      "\r 76%|███████▌  | 4501/5930 [00:07<00:02, 586.12it/s]"
     ]
    },
    {
     "name": "stderr",
     "output_type": "stream",
     "text": [
      "\r 77%|███████▋  | 4578/5930 [00:07<00:02, 588.46it/s]"
     ]
    },
    {
     "name": "stderr",
     "output_type": "stream",
     "text": [
      "\r 78%|███████▊  | 4647/5930 [00:07<00:02, 589.06it/s]"
     ]
    },
    {
     "name": "stderr",
     "output_type": "stream",
     "text": [
      "\r 79%|███████▉  | 4714/5930 [00:07<00:02, 589.75it/s]"
     ]
    },
    {
     "name": "stderr",
     "output_type": "stream",
     "text": [
      "\r 81%|████████  | 4780/5930 [00:08<00:01, 588.61it/s]"
     ]
    },
    {
     "name": "stderr",
     "output_type": "stream",
     "text": [
      "\r 82%|████████▏ | 4842/5930 [00:08<00:01, 587.23it/s]"
     ]
    },
    {
     "name": "stderr",
     "output_type": "stream",
     "text": [
      "\r 83%|████████▎ | 4901/5930 [00:08<00:01, 581.59it/s]"
     ]
    },
    {
     "name": "stderr",
     "output_type": "stream",
     "text": [
      "\r 84%|████████▍ | 4974/5930 [00:08<00:01, 583.33it/s]"
     ]
    },
    {
     "name": "stderr",
     "output_type": "stream",
     "text": [
      "\r 85%|████████▌ | 5053/5930 [00:08<00:01, 585.71it/s]"
     ]
    },
    {
     "name": "stderr",
     "output_type": "stream",
     "text": [
      "\r 86%|████████▋ | 5125/5930 [00:08<00:01, 587.21it/s]"
     ]
    },
    {
     "name": "stderr",
     "output_type": "stream",
     "text": [
      "\r 88%|████████▊ | 5193/5930 [00:08<00:01, 588.20it/s]"
     ]
    },
    {
     "name": "stderr",
     "output_type": "stream",
     "text": [
      "\r 89%|████████▊ | 5260/5930 [00:08<00:01, 588.62it/s]"
     ]
    },
    {
     "name": "stderr",
     "output_type": "stream",
     "text": [
      "\r 90%|█████████ | 5337/5930 [00:09<00:01, 590.61it/s]"
     ]
    },
    {
     "name": "stderr",
     "output_type": "stream",
     "text": [
      "\r 91%|█████████ | 5411/5930 [00:09<00:00, 592.21it/s]"
     ]
    },
    {
     "name": "stderr",
     "output_type": "stream",
     "text": [
      "\r 92%|█████████▏| 5482/5930 [00:09<00:00, 592.36it/s]"
     ]
    },
    {
     "name": "stderr",
     "output_type": "stream",
     "text": [
      "\r 94%|█████████▎| 5550/5930 [00:09<00:00, 591.25it/s]"
     ]
    },
    {
     "name": "stderr",
     "output_type": "stream",
     "text": [
      "\r 95%|█████████▍| 5624/5930 [00:09<00:00, 592.79it/s]"
     ]
    },
    {
     "name": "stderr",
     "output_type": "stream",
     "text": [
      "\r 96%|█████████▌| 5690/5930 [00:09<00:00, 591.71it/s]"
     ]
    },
    {
     "name": "stderr",
     "output_type": "stream",
     "text": [
      "\r 97%|█████████▋| 5752/5930 [00:09<00:00, 591.24it/s]"
     ]
    },
    {
     "name": "stderr",
     "output_type": "stream",
     "text": [
      "\r 98%|█████████▊| 5812/5930 [00:09<00:00, 590.26it/s]"
     ]
    },
    {
     "name": "stderr",
     "output_type": "stream",
     "text": [
      "\r 99%|█████████▉| 5879/5930 [00:09<00:00, 591.03it/s]"
     ]
    },
    {
     "name": "stderr",
     "output_type": "stream",
     "text": [
      "\r100%|██████████| 5930/5930 [00:10<00:00, 589.94it/s]"
     ]
    },
    {
     "name": "stderr",
     "output_type": "stream",
     "text": [
      "\n"
     ]
    }
   ],
   "source": [
    "scores = preprocessing.get_score_tensors()"
   ]
  },
  {
   "cell_type": "code",
   "execution_count": 5,
   "metadata": {},
   "outputs": [],
   "source": [
    "metas = preprocessing.get_metadata_tensors()"
   ]
  },
  {
   "cell_type": "code",
   "execution_count": 7,
   "metadata": {},
   "outputs": [
    {
     "data": {
      "text/plain": [
       "(5, 720, 18)"
      ]
     },
     "execution_count": 6,
     "metadata": {},
     "output_type": "execute_result"
    }
   ],
   "source": [
    "metas[0].shape"
   ]
  },
  {
   "cell_type": "code",
   "execution_count": 50,
   "metadata": {},
   "outputs": [],
   "source": [
    "max_pitch = np.max([np.max(t) for t in scores])\n",
    "min_pitch = np.min([np.min(t[t > 0]) for t in scores])"
   ]
  },
  {
   "cell_type": "code",
   "execution_count": 51,
   "metadata": {},
   "outputs": [
    {
     "data": {
      "text/plain": [
       "31.0"
      ]
     },
     "execution_count": 51,
     "metadata": {},
     "output_type": "execute_result"
    }
   ],
   "source": [
    "min_pitch"
   ]
  },
  {
   "cell_type": "code",
   "execution_count": 12,
   "metadata": {},
   "outputs": [
    {
     "data": {
      "text/plain": [
       "(720, 4, 32, 5, 3)"
      ]
     },
     "execution_count": 11,
     "metadata": {},
     "output_type": "execute_result"
    }
   ],
   "source": [
    "preprocessing.make_input_sequence(scores[0], metas[0], 0, max_pitch).shape"
   ]
  },
  {
   "cell_type": "code",
   "execution_count": 12,
   "metadata": {},
   "outputs": [
    {
     "name": "stdout",
     "output_type": "stream",
     "text": [
      "____________________________________________________________________________________________________\nLayer (type)                     Output Shape          Param #     Connected to                     \n====================================================================================================\nconv_lst_m2d_1_input (InputLayer (None, None, 32, None 0                                            \n____________________________________________________________________________________________________\nconv_lst_m2d_1 (ConvLSTM2D)      (None, None, 32, None 40448       conv_lst_m2d_1_input[0][0]       \n____________________________________________________________________________________________________\nmax_pooling3d_1 (MaxPooling3D)   (None, None, 16, None 0           conv_lst_m2d_1[0][0]             \n____________________________________________________________________________________________________\nconv_lst_m2d_2 (ConvLSTM2D)      (None, 16, None, 64)  221440      max_pooling3d_1[0][0]            \n____________________________________________________________________________________________________\nglobal_average_pooling2d_1 (Glob (None, 64)            0           conv_lst_m2d_2[0][0]             \n____________________________________________________________________________________________________\ninput_1 (InputLayer)             (None, 16)            0                                            \n____________________________________________________________________________________________________\nconcatenate_1 (Concatenate)      (None, 80)            0           global_average_pooling2d_1[0][0] \n                                                                   input_1[0][0]                    \n____________________________________________________________________________________________________\ndropout_1 (Dropout)              (None, 80)            0           concatenate_1[0][0]              \n____________________________________________________________________________________________________\ndense_1 (Dense)                  (None, 100)           8100        dropout_1[0][0]                  \n____________________________________________________________________________________________________\ndropout_2 (Dropout)              (None, 100)           0           dense_1[0][0]                    \n____________________________________________________________________________________________________\ndense_2 (Dense)                  (None, 59)            5959        dropout_2[0][0]                  \n____________________________________________________________________________________________________\ndense_3 (Dense)                  (None, 1)             101         dense_1[0][0]                    \n====================================================================================================\nTotal params: 276,048\nTrainable params: 276,048\nNon-trainable params: 0\n____________________________________________________________________________________________________\n"
     ]
    }
   ],
   "source": [
    "model = models.conv2dlstm_model()\n",
    "model.load_weights('./weights/conv2dlstm.weights.best.hdf5')\n",
    "model.summary()"
   ]
  },
  {
   "cell_type": "heading",
   "metadata": {},
   "level": 2,
   "source": [
    "First, we're going to try sampling with no conditioning on notes"
   ]
  },
  {
   "cell_type": "code",
   "execution_count": 180,
   "metadata": {},
   "outputs": [
    {
     "data": {
      "text/plain": [
       "64"
      ]
     },
     "execution_count": 180,
     "metadata": {},
     "output_type": "execute_result"
    }
   ],
   "source": [
    "score_length = 4 * 16  # let's start with 4 bars\n",
    "score_length"
   ]
  },
  {
   "cell_type": "code",
   "execution_count": 181,
   "metadata": {},
   "outputs": [
    {
     "data": {
      "text/plain": [
       "array([[ 1.,  0.,  0., ...,  0.,  0.,  0.],\n       [ 0.,  1.,  0., ...,  0.,  0.,  0.],\n       [ 0.,  0.,  1., ...,  0.,  0.,  0.],\n       ..., \n       [ 0.,  0.,  0., ...,  1.,  0.,  0.],\n       [ 0.,  0.,  0., ...,  0.,  1.,  0.],\n       [ 0.,  0.,  0., ...,  0.,  0.,  1.]])"
      ]
     },
     "execution_count": 181,
     "metadata": {},
     "output_type": "execute_result"
    }
   ],
   "source": [
    "# The model is conditioned on a fixed beat pattern\n",
    "beats = np.zeros((score_length, 16))\n",
    "for i in range(score_length):\n",
    "    beats[i, i % 16] = 1\n",
    "beats"
   ]
  },
  {
   "cell_type": "code",
   "execution_count": 182,
   "metadata": {},
   "outputs": [],
   "source": [
    "# Let's first try a score with 5 voices\n",
    "n_voices = 5\n",
    "sequence_steps = 4\n",
    "window_size = 32\n",
    "gibbs_steps = 100\n"
   ]
  },
  {
   "cell_type": "code",
   "execution_count": 386,
   "metadata": {},
   "outputs": [],
   "source": [
    "def sample_softmax(preds, temperature=1.0):\n",
    "    # taken from https://github.com/keras-team/keras/blob/master/examples/lstm_text_generation.py\n",
    "    # helper function to sample an index from a probability array\n",
    "    preds = preds.astype('float64')\n",
    "    preds = np.log(preds) / temperature\n",
    "    exp_preds = np.exp(preds)\n",
    "    preds = exp_preds / np.sum(exp_preds)\n",
    "    probas = np.random.multinomial(1, preds, 1)\n",
    "    return np.argmax(probas)"
   ]
  },
  {
   "cell_type": "code",
   "execution_count": 642,
   "metadata": {},
   "outputs": [],
   "source": [
    "def sample_softmax_multi(preds, temperature=1.0):\n",
    "    # taken from https://github.com/keras-team/keras/blob/master/examples/lstm_text_generation.py\n",
    "    # helper function to sample an index from a probability array\n",
    "    preds = preds.astype('float64')\n",
    "    preds = np.log(preds) / temperature\n",
    "    exp_preds = np.exp(preds)\n",
    "    preds = exp_preds / np.sum(exp_preds, axis=1).reshape((-1, 1))\n",
    "    probas = np.apply_along_axis(lambda pred: np.random.multinomial(1, pred, 1), 1, preds)\n",
    "    return probas.argmax(axis=1)"
   ]
  },
  {
   "cell_type": "code",
   "execution_count": 643,
   "metadata": {},
   "outputs": [],
   "source": [
    "score = np.zeros((n_voices, score_length))\n",
    "meta = np.zeros((n_voices, score_length, 18))\n",
    "for i in range(n_voices):\n",
    "    meta[i, :, 2:] = beats"
   ]
  },
  {
   "cell_type": "code",
   "execution_count": 644,
   "metadata": {},
   "outputs": [],
   "source": [
    "def sample_1(n_voices, score_length, gibbs_steps, temperature):\n",
    "    score = np.zeros((n_voices, score_length))\n",
    "    meta = np.zeros((n_voices, score_length, 18))\n",
    "    beats = np.zeros((score_length, 16))\n",
    "    for i in range(score_length):\n",
    "        beats[i, i % 16] = 1\n",
    "    for i in range(n_voices):\n",
    "        meta[i, :, 2:] = beats\n",
    "    for step in tqdm(range(gibbs_steps)):\n",
    "        for time_step in range(score_length):\n",
    "            for voice in range(n_voices):\n",
    "                input_ = preprocessing.make_input_sequence(score, meta, voice, max_pitch)\n",
    "                note, slur = model.predict([\n",
    "                    input_[time_step:time_step+1], beats[time_step:time_step+1]])\n",
    "                sampled_note = sample_softmax(note[0], temperature)\n",
    "                slur_proba = np.squeeze(np.array([1 - slur[0], slur[0]]))\n",
    "                sampled_slur = sample_softmax(slur_proba, temperature)\n",
    "                if sampled_note > 0:\n",
    "                    score[voice, time_step] = sampled_note + min_pitch\n",
    "                else:\n",
    "                    meta[voice, time_step, score_utils.idx_rest] = 1\n",
    "                meta[voice, time_step, score_utils.idx_slur] = sampled_slur\n",
    "    return score, meta"
   ]
  },
  {
   "cell_type": "code",
   "execution_count": 645,
   "metadata": {},
   "outputs": [],
   "source": [
    "def sample_2(n_voices, score_length, gibbs_steps, temperature):\n",
    "    score = np.zeros((n_voices, score_length))\n",
    "    meta = np.zeros((n_voices, score_length, 18))\n",
    "    beats = np.zeros((score_length, 16))\n",
    "    for i in range(score_length):\n",
    "        beats[i, i % 16] = 1\n",
    "    for i in range(n_voices):\n",
    "        meta[i, :, 2:] = beats\n",
    "    for step in tqdm(range(gibbs_steps)):\n",
    "        for voice in range(n_voices):\n",
    "            input_ = preprocessing.make_input_sequence(score, meta, voice, max_pitch)\n",
    "            note, slur = model.predict([\n",
    "                input_, beats])\n",
    "            sampled_notes = sample_softmax_multi(note, temperature)\n",
    "            slur_proba = np.hstack([1 - slur, slur])\n",
    "            sampled_slurs = sample_softmax_multi(slur_proba, temperature)\n",
    "            \n",
    "            score[voice] = sampled_notes + ((sampled_notes > 1) * min_pitch)\n",
    "            meta[voice, :, score_utils.idx_rest] = sampled_notes == 0\n",
    "            meta[voice, :, score_utils.idx_slur] = sampled_slurs\n",
    "    return score, meta"
   ]
  },
  {
   "cell_type": "code",
   "execution_count": 651,
   "metadata": {
    "collapsed": true
   },
   "outputs": [
    {
     "name": "stderr",
     "output_type": "stream",
     "text": [
      "\r  0%|          | 0/25 [00:00<?, ?it/s]"
     ]
    },
    {
     "name": "stderr",
     "output_type": "stream",
     "text": [
      "\r  4%|▍         | 1/25 [00:01<00:42,  1.79s/it]"
     ]
    },
    {
     "name": "stderr",
     "output_type": "stream",
     "text": [
      "/Users/ben.cohen/miniconda3/envs/palestrinet/lib/python3.6/site-packages/ipykernel_launcher.py:5: RuntimeWarning: divide by zero encountered in log\n  \"\"\"\n"
     ]
    },
    {
     "name": "stderr",
     "output_type": "stream",
     "text": [
      "\r  8%|▊         | 2/25 [00:03<00:38,  1.67s/it]"
     ]
    },
    {
     "name": "stderr",
     "output_type": "stream",
     "text": [
      "\r 12%|█▏        | 3/25 [00:04<00:35,  1.61s/it]"
     ]
    },
    {
     "name": "stderr",
     "output_type": "stream",
     "text": [
      "\r 16%|█▌        | 4/25 [00:06<00:32,  1.53s/it]"
     ]
    },
    {
     "name": "stderr",
     "output_type": "stream",
     "text": [
      "\r 20%|██        | 5/25 [00:07<00:29,  1.46s/it]"
     ]
    },
    {
     "name": "stderr",
     "output_type": "stream",
     "text": [
      "\r 24%|██▍       | 6/25 [00:08<00:26,  1.42s/it]"
     ]
    },
    {
     "name": "stderr",
     "output_type": "stream",
     "text": [
      "\r 28%|██▊       | 7/25 [00:09<00:25,  1.39s/it]"
     ]
    },
    {
     "name": "stderr",
     "output_type": "stream",
     "text": [
      "\r 32%|███▏      | 8/25 [00:10<00:23,  1.36s/it]"
     ]
    },
    {
     "name": "stderr",
     "output_type": "stream",
     "text": [
      "\r 36%|███▌      | 9/25 [00:12<00:21,  1.34s/it]"
     ]
    },
    {
     "name": "stderr",
     "output_type": "stream",
     "text": [
      "\r 40%|████      | 10/25 [00:13<00:19,  1.32s/it]"
     ]
    },
    {
     "name": "stderr",
     "output_type": "stream",
     "text": [
      "\r 44%|████▍     | 11/25 [00:14<00:18,  1.31s/it]"
     ]
    },
    {
     "name": "stderr",
     "output_type": "stream",
     "text": [
      "\r 48%|████▊     | 12/25 [00:15<00:16,  1.29s/it]"
     ]
    },
    {
     "name": "stderr",
     "output_type": "stream",
     "text": [
      "\r 52%|█████▏    | 13/25 [00:16<00:15,  1.28s/it]"
     ]
    },
    {
     "name": "stderr",
     "output_type": "stream",
     "text": [
      "\r 56%|█████▌    | 14/25 [00:17<00:14,  1.27s/it]"
     ]
    },
    {
     "name": "stderr",
     "output_type": "stream",
     "text": [
      "\r 60%|██████    | 15/25 [00:18<00:12,  1.27s/it]"
     ]
    },
    {
     "name": "stderr",
     "output_type": "stream",
     "text": [
      "\r 64%|██████▍   | 16/25 [00:20<00:11,  1.26s/it]"
     ]
    },
    {
     "name": "stderr",
     "output_type": "stream",
     "text": [
      "\r 68%|██████▊   | 17/25 [00:21<00:10,  1.26s/it]"
     ]
    },
    {
     "name": "stderr",
     "output_type": "stream",
     "text": [
      "\r 72%|███████▏  | 18/25 [00:22<00:08,  1.25s/it]"
     ]
    },
    {
     "name": "stderr",
     "output_type": "stream",
     "text": [
      "\r 76%|███████▌  | 19/25 [00:23<00:07,  1.25s/it]"
     ]
    },
    {
     "name": "stderr",
     "output_type": "stream",
     "text": [
      "\r 80%|████████  | 20/25 [00:24<00:06,  1.25s/it]"
     ]
    },
    {
     "name": "stderr",
     "output_type": "stream",
     "text": [
      "\r 84%|████████▍ | 21/25 [00:26<00:04,  1.25s/it]"
     ]
    },
    {
     "name": "stderr",
     "output_type": "stream",
     "text": [
      "\r 88%|████████▊ | 22/25 [00:27<00:03,  1.24s/it]"
     ]
    },
    {
     "name": "stderr",
     "output_type": "stream",
     "text": [
      "\r 92%|█████████▏| 23/25 [00:28<00:02,  1.24s/it]"
     ]
    },
    {
     "name": "stderr",
     "output_type": "stream",
     "text": [
      "\r 96%|█████████▌| 24/25 [00:29<00:01,  1.24s/it]"
     ]
    },
    {
     "name": "stderr",
     "output_type": "stream",
     "text": [
      "\r100%|██████████| 25/25 [00:31<00:00,  1.24s/it]"
     ]
    },
    {
     "name": "stderr",
     "output_type": "stream",
     "text": [
      "\n"
     ]
    }
   ],
   "source": [
    "score, meta = sample_2(5, 32, 25, 1)"
   ]
  },
  {
   "cell_type": "code",
   "execution_count": 656,
   "metadata": {},
   "outputs": [],
   "source": [
    ""
   ]
  },
  {
   "cell_type": "code",
   "execution_count": null,
   "metadata": {},
   "outputs": [
    {
     "data": {
      "text/plain": [
       "array([[  0.,   0.,   0.,   0.,  49.,   0.,  49.,   0.,   0.,  49.,  56.,\n         70.,   0.,   0.,   0.,   0.,   0.,  49.,  63.,  64.,  63.,  70.,\n          0.,   0.,  51.,  50.,  49.,  51.,  47.,  49.,  52.,  51.],\n       [  0.,   0.,   0.,   0.,   0.,   0.,   0.,  44.,  61.,   0.,   0.,\n          0.,   0.,  47.,  58.,  69.,  68.,  71.,  68.,  58.,  68.,  63.,\n          0.,   0.,  45.,  46.,   0.,  44.,  56.,  47.,  57.,  51.],\n       [  0.,   0.,  54.,   0.,   0.,   0.,   0.,   0.,   0.,   0.,  44.,\n          0.,   0.,   0.,  42.,  52.,  63.,  59.,   0.,   0.,   0.,   0.,\n          0.,  44.,  45.,  44.,  44.,  47.,  44.,  47.,  44.,  54.],\n       [  0.,   0.,   0.,   0.,   0.,  49.,  63.,   0.,  51.,   0.,   0.,\n          0.,   0.,   0.,   0.,   0.,   0.,   0.,  54.,   0.,   0.,   0.,\n          0.,  44.,  47.,  47.,  49.,  37.,   0.,  42.,  44.,   0.],\n       [  0.,   0.,   0.,   0.,   0.,   0.,   0.,  51.,  54.,  46.,  45.,\n         45.,   0.,   0.,  45.,   0.,   0.,   0.,   0.,   0.,   0.,   0.,\n          0.,  42.,  45.,  47.,  48.,  47.,  49.,  49.,  48.,  49.]])"
      ]
     },
     "execution_count": 653,
     "metadata": {},
     "output_type": "execute_result"
    }
   ],
   "source": [
    ""
   ]
  },
  {
   "cell_type": "code",
   "execution_count": 654,
   "metadata": {},
   "outputs": [],
   "source": [
    "music = score_utils.tensor_to_score(score, meta)"
   ]
  },
  {
   "cell_type": "code",
   "execution_count": 655,
   "metadata": {},
   "outputs": [
    {
     "data": {
      "text/plain": [
       "'/var/folders/tz/1572h57x6blgvbx33p6nyg3xbw4mw_/T/music21/tmp1r8nx5y_.mid'"
      ]
     },
     "execution_count": 655,
     "metadata": {},
     "output_type": "execute_result"
    }
   ],
   "source": [
    "music.write('midi')"
   ]
  },
  {
   "cell_type": "code",
   "execution_count": 119,
   "metadata": {},
   "outputs": [
    {
     "data": {
      "text/plain": [
       "(5, 256)"
      ]
     },
     "execution_count": 119,
     "metadata": {},
     "output_type": "execute_result"
    }
   ],
   "source": [
    "score.shape"
   ]
  },
  {
   "cell_type": "code",
   "execution_count": 122,
   "metadata": {},
   "outputs": [
    {
     "data": {
      "text/plain": [
       "array([ 0.,  1.,  1.,  1.,  1.,  1.,  1.,  1.,  0.,  1.,  1.,  1.,  0.,\n        1.,  1.,  1.,  0.,  1.,  1.,  1.,  1.,  1.,  1.,  1.,  1.,  1.,\n        1.,  1.,  0.,  1.,  0.,  1.,  0.,  1.,  0.,  1.,  0.,  1.,  1.,\n        1.,  1.,  1.,  0.,  1.,  0.,  1.,  1.,  1.,  0.,  1.,  1.,  1.,\n        1.,  1.,  0.,  0.,  0.,  1.,  0.,  1.,  0.,  1.,  0.,  1.,  0.,\n        0.,  0.,  0.,  0.,  0.,  0.,  0.,  0.,  0.,  0.,  0.,  0.,  0.,\n        0.,  0.,  0.,  0.,  0.,  0.,  0.,  0.,  0.,  0.,  0.,  0.,  0.,\n        0.,  0.,  0.,  0.,  0.,  0.,  0.,  0.,  0.,  0.,  0.,  0.,  0.,\n        0.,  0.,  0.,  0.,  0.,  0.,  0.,  0.,  0.,  0.,  0.,  0.,  0.,\n        0.,  0.,  0.,  0.,  0.,  0.,  0.,  0.,  0.,  0.,  0.,  0.,  0.,\n        0.,  0.,  0.,  0.,  0.,  0.,  0.,  0.,  0.,  0.,  0.,  0.,  0.,\n        0.,  0.,  0.,  0.,  0.,  0.,  0.,  0.,  0.,  0.,  0.,  0.,  0.,\n        0.,  0.,  0.,  0.,  0.,  0.,  0.,  0.,  0.,  0.,  0.,  0.,  0.,\n        0.,  0.,  0.,  0.,  0.,  0.,  0.,  0.,  0.,  0.,  0.,  0.,  0.,\n        0.,  0.,  0.,  0.,  0.,  0.,  0.,  0.,  0.,  0.,  0.,  0.,  0.,\n        0.,  0.,  0.,  0.,  0.,  0.,  0.,  0.,  0.,  0.,  0.,  0.,  0.,\n        0.,  0.,  0.,  0.,  0.,  0.,  0.,  0.,  0.,  0.,  0.,  0.,  0.,\n        0.,  0.,  0.,  0.,  0.,  0.,  0.,  0.,  0.,  0.,  0.,  0.,  0.,\n        0.,  0.,  0.,  0.,  0.,  0.,  0.,  0.,  0.,  0.,  0.,  0.,  0.,\n        0.,  0.,  0.,  0.,  0.,  0.,  0.,  0.,  0.])"
      ]
     },
     "execution_count": 122,
     "metadata": {},
     "output_type": "execute_result"
    }
   ],
   "source": [
    "meta[2, :, 0]"
   ]
  },
  {
   "cell_type": "code",
   "execution_count": null,
   "metadata": {},
   "outputs": [],
   "source": []
  }
 ],
 "metadata": {
  "kernelspec": {
   "display_name": "Python 2",
   "language": "python",
   "name": "python2"
  },
  "language_info": {
   "codemirror_mode": {
    "name": "ipython",
    "version": 2
   },
   "file_extension": ".py",
   "mimetype": "text/x-python",
   "name": "python",
   "nbconvert_exporter": "python",
   "pygments_lexer": "ipython2",
   "version": "2.7.6"
  }
 },
 "nbformat": 4,
 "nbformat_minor": 0
}
